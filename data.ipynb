{
 "cells": [
  {
   "cell_type": "code",
   "execution_count": null,
   "metadata": {},
   "outputs": [],
   "source": [
    "!pip install requests beautifulsoup4"
   ]
  },
  {
   "cell_type": "code",
   "execution_count": null,
   "metadata": {},
   "outputs": [],
   "source": [
    "import os\n",
    "import requests\n",
    "from bs4 import BeautifulSoup\n",
    "from urllib.parse import urljoin\n",
    "\n",
    "# Directory to save logos\n",
    "os.makedirs('company_logos', exist_ok=True)\n",
    "\n",
    "# Base URL\n",
    "base_url = 'https://companiesmarketcap.com/'\n",
    "\n",
    "# Get the main page\n",
    "response = requests.get(base_url)\n",
    "soup = BeautifulSoup(response.text, 'html.parser')\n",
    "\n",
    "# Find all companies listed on the page\n",
    "companies = soup.select('.company-link')  # This class may vary, inspect the element to get the correct class\n",
    "\n",
    "for company in companies:\n",
    "    company_name = company.text.strip()\n",
    "    company_url = urljoin(base_url, company['href'])\n",
    "    \n",
    "    # Request the company's page\n",
    "    company_response = requests.get(company_url)\n",
    "    company_soup = BeautifulSoup(company_response.text, 'html.parser')\n",
    "    \n",
    "    # Find the logo image\n",
    "    logo_img = company_soup.find('img', {'class': 'company-logo'})  # Again, inspect the element for correct class\n",
    "    \n",
    "    if logo_img:\n",
    "        logo_url = urljoin(company_url, logo_img['src'])\n",
    "        \n",
    "        # Get the logo image\n",
    "        logo_response = requests.get(logo_url)\n",
    "        \n",
    "        # Save the logo image\n",
    "        logo_filename = os.path.join('company_logos', f\"logos/{company_name}.png\")\n",
    "        with open(logo_filename, 'wb') as logo_file:\n",
    "            logo_file.write(logo_response.content)\n",
    "        \n",
    "        print(f\"Downloaded logo for {company_name}\")\n",
    "\n",
    "print(\"All logos have been downloaded.\")\n"
   ]
  }
 ],
 "metadata": {
  "language_info": {
   "name": "python"
  }
 },
 "nbformat": 4,
 "nbformat_minor": 2
}
